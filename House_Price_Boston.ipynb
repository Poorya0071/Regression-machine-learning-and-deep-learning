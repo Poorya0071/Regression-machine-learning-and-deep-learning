{
  "nbformat": 4,
  "nbformat_minor": 0,
  "metadata": {
    "colab": {
      "provenance": [],
      "authorship_tag": "ABX9TyMHZMjqG7LmDv7nDz9wqfO2",
      "include_colab_link": true
    },
    "kernelspec": {
      "name": "python3",
      "display_name": "Python 3"
    },
    "language_info": {
      "name": "python"
    },
    "gpuClass": "standard"
  },
  "cells": [
    {
      "cell_type": "markdown",
      "metadata": {
        "id": "view-in-github",
        "colab_type": "text"
      },
      "source": [
        "<a href=\"https://colab.research.google.com/github/Poorya0071/Regression-machine-learning-and-deep-learning/blob/master/House_Price_Boston.ipynb\" target=\"_parent\"><img src=\"https://colab.research.google.com/assets/colab-badge.svg\" alt=\"Open In Colab\"/></a>"
      ]
    },
    {
      "cell_type": "markdown",
      "source": [
        "# House_Price_Boston"
      ],
      "metadata": {
        "id": "WJrOGtnqNCB2"
      }
    },
    {
      "cell_type": "code",
      "execution_count": 1,
      "metadata": {
        "id": "13fj_k4gEOQc"
      },
      "outputs": [],
      "source": [
        "import tensorflow as tf\n",
        "from tensorflow import keras\n",
        "from tensorflow.keras import layers\n",
        "import numpy as np\n",
        "import os\n",
        "import matplotlib.pyplot as plt"
      ]
    },
    {
      "cell_type": "markdown",
      "source": [
        "# Upload The dataset"
      ],
      "metadata": {
        "id": "0U0JgTk2NFZl"
      }
    },
    {
      "cell_type": "code",
      "source": [
        "from keras.datasets import boston_housing\n",
        "\n",
        "(train_data, train_targets), (test_data, test_targets) = boston_housing.load_data()"
      ],
      "metadata": {
        "id": "HFpuqQqRF6hw"
      },
      "execution_count": 20,
      "outputs": []
    },
    {
      "cell_type": "code",
      "source": [
        "len(train_data), len(train_targets), len(test_data), len(test_targets)"
      ],
      "metadata": {
        "colab": {
          "base_uri": "https://localhost:8080/"
        },
        "id": "xGA8S0cWGlJU",
        "outputId": "8f29e7f4-257e-4ff6-e999-b6b122258a2f"
      },
      "execution_count": 21,
      "outputs": [
        {
          "output_type": "execute_result",
          "data": {
            "text/plain": [
              "(404, 404, 102, 102)"
            ]
          },
          "metadata": {},
          "execution_count": 21
        }
      ]
    },
    {
      "cell_type": "markdown",
      "source": [
        "#Modeling"
      ],
      "metadata": {
        "id": "MLhCxvSLNJib"
      }
    },
    {
      "cell_type": "code",
      "source": [
        "tf.random.set_seed(42)\n",
        "\n",
        "model_0 = tf.keras.Sequential([\n",
        "    layers.Dense(16, activation = 'relu'),\n",
        "    layers.Dense(32, activation = 'relu'),\n",
        "    layers.Dense(64, activation = 'relu'),\n",
        "    layers.Dense(128, activation = 'relu')\n",
        "])\n",
        "\n",
        "model_0.compile(loss = tf.keras.losses.mae,\n",
        "              optimizer = tf.keras.optimizers.Adam(learning_rate = 0.001),\n",
        "              metrics = ['mae'])"
      ],
      "metadata": {
        "id": "0BwX3U10GqcM"
      },
      "execution_count": 62,
      "outputs": []
    },
    {
      "cell_type": "code",
      "source": [
        "model_0_history = model_0.fit(train_data, train_targets, epochs = 2500, verbose = 0,\n",
        "                          validation_data = (test_data, test_targets))"
      ],
      "metadata": {
        "id": "pWeVlKxPGxWE"
      },
      "execution_count": 63,
      "outputs": []
    },
    {
      "cell_type": "code",
      "source": [
        "model_0.evaluate(test_data, test_targets)"
      ],
      "metadata": {
        "colab": {
          "base_uri": "https://localhost:8080/"
        },
        "id": "jewZOhzGHTI4",
        "outputId": "63ef1546-c86c-4863-9a49-4145f7e38af6"
      },
      "execution_count": 64,
      "outputs": [
        {
          "output_type": "stream",
          "name": "stdout",
          "text": [
            "4/4 [==============================] - 0s 4ms/step - loss: 3.0426 - mae: 3.0426\n"
          ]
        },
        {
          "output_type": "execute_result",
          "data": {
            "text/plain": [
              "[3.042585849761963, 3.042585849761963]"
            ]
          },
          "metadata": {},
          "execution_count": 64
        }
      ]
    },
    {
      "cell_type": "code",
      "source": [
        "from sklearn.ensemble import RandomForestRegressor\n",
        "reg = RandomForestRegressor()\n",
        "reg.fit(train_data, train_targets)"
      ],
      "metadata": {
        "colab": {
          "base_uri": "https://localhost:8080/"
        },
        "id": "A2deX_6AHsZZ",
        "outputId": "5faf5750-0bce-4d06-8e61-1c87e0b451dd"
      },
      "execution_count": 65,
      "outputs": [
        {
          "output_type": "execute_result",
          "data": {
            "text/plain": [
              "RandomForestRegressor()"
            ]
          },
          "metadata": {},
          "execution_count": 65
        }
      ]
    },
    {
      "cell_type": "code",
      "source": [
        "y_pred_rfr = reg.predict(test_data)"
      ],
      "metadata": {
        "id": "bhItL7hyH1JB"
      },
      "execution_count": 66,
      "outputs": []
    },
    {
      "cell_type": "code",
      "source": [
        "from sklearn.compose import make_column_transformer\n",
        "from sklearn.preprocessing import MinMaxScaler, OneHotEncoder\n",
        "from sklearn.preprocessing import StandardScaler"
      ],
      "metadata": {
        "id": "WhGEVv4fH7FC"
      },
      "execution_count": 67,
      "outputs": []
    },
    {
      "cell_type": "code",
      "source": [
        "scaler = StandardScaler()"
      ],
      "metadata": {
        "id": "OCrE0RR3IxGA"
      },
      "execution_count": 68,
      "outputs": []
    },
    {
      "cell_type": "code",
      "source": [
        "\n",
        "# fit column_transformer to the train data\n",
        "scaler.fit(train_data)\n",
        "\n",
        "X_train_scaled = scaler.transform(train_data)\n",
        "X_test_scaled = scaler.transform(test_data)"
      ],
      "metadata": {
        "id": "r5EjDFt7IAWr"
      },
      "execution_count": 69,
      "outputs": []
    },
    {
      "cell_type": "code",
      "source": [
        "X_train_scaled[0]"
      ],
      "metadata": {
        "colab": {
          "base_uri": "https://localhost:8080/"
        },
        "id": "o8bDwljUIPsm",
        "outputId": "24778d33-2fc8-4a23-a386-df0d2a4dc9ae"
      },
      "execution_count": 70,
      "outputs": [
        {
          "output_type": "execute_result",
          "data": {
            "text/plain": [
              "array([-0.27224633, -0.48361547, -0.43576161, -0.25683275, -0.1652266 ,\n",
              "       -0.1764426 ,  0.81306188,  0.1166983 , -0.62624905, -0.59517003,\n",
              "        1.14850044,  0.44807713,  0.8252202 ])"
            ]
          },
          "metadata": {},
          "execution_count": 70
        }
      ]
    },
    {
      "cell_type": "code",
      "source": [
        "tf.random.set_seed(42)\n",
        "\n",
        "model_1 = tf.keras.Sequential([\n",
        "    layers.Dense(16, activation = 'relu'),\n",
        "    layers.Dense(32, activation = 'relu'),\n",
        "    layers.Dense(64, activation = 'relu'),\n",
        "    layers.Dense(128, activation = 'relu')\n",
        "])\n",
        "\n",
        "model_1.compile(loss = tf.keras.losses.mae,\n",
        "              optimizer = tf.keras.optimizers.Adam(learning_rate = 0.001),\n",
        "              metrics = ['mae'])"
      ],
      "metadata": {
        "id": "FCcu8r0yJD_I"
      },
      "execution_count": 71,
      "outputs": []
    },
    {
      "cell_type": "code",
      "source": [
        "model_1_history = model_1.fit(X_train_scaled, train_targets, epochs = 2500, verbose = 0,\n",
        "                          validation_data = (X_test_scaled, test_targets))"
      ],
      "metadata": {
        "id": "PmGlZoOlJLaJ"
      },
      "execution_count": 72,
      "outputs": []
    },
    {
      "cell_type": "code",
      "source": [
        "model_1.evaluate(X_test_scaled, test_targets)"
      ],
      "metadata": {
        "colab": {
          "base_uri": "https://localhost:8080/"
        },
        "id": "fzyVVlB7JRmu",
        "outputId": "81584f47-9b06-47ba-e789-4597142bebae"
      },
      "execution_count": 73,
      "outputs": [
        {
          "output_type": "stream",
          "name": "stdout",
          "text": [
            "4/4 [==============================] - 0s 3ms/step - loss: 3.1147 - mae: 3.1147\n"
          ]
        },
        {
          "output_type": "execute_result",
          "data": {
            "text/plain": [
              "[3.114729642868042, 3.114729642868042]"
            ]
          },
          "metadata": {},
          "execution_count": 73
        }
      ]
    },
    {
      "cell_type": "code",
      "source": [
        "y_pred = model_0.predict(X_test)"
      ],
      "metadata": {
        "colab": {
          "base_uri": "https://localhost:8080/"
        },
        "id": "2-9oKD1NJVS6",
        "outputId": "1586b02a-7d8e-4048-cfc1-80affad6be93"
      },
      "execution_count": 74,
      "outputs": [
        {
          "output_type": "stream",
          "name": "stdout",
          "text": [
            "4/4 [==============================] - 0s 3ms/step\n"
          ]
        }
      ]
    },
    {
      "cell_type": "code",
      "source": [
        "y_pred_scale = model_1.predict(X_test_scaled)"
      ],
      "metadata": {
        "colab": {
          "base_uri": "https://localhost:8080/"
        },
        "id": "oHOSndVFKXcW",
        "outputId": "1094eec8-c55b-4394-cac4-5a7e6a1bb15f"
      },
      "execution_count": 75,
      "outputs": [
        {
          "output_type": "stream",
          "name": "stdout",
          "text": [
            "4/4 [==============================] - 0s 3ms/step\n"
          ]
        }
      ]
    },
    {
      "cell_type": "code",
      "source": [
        "import numpy as np\n",
        "y_pred_ls = []\n",
        "for i in range(len(y_pred)):\n",
        "  pred = np.max(y_pred[i])\n",
        "  y_pred_ls.append(pred)"
      ],
      "metadata": {
        "id": "_nS2mTr2Kc9T"
      },
      "execution_count": 76,
      "outputs": []
    },
    {
      "cell_type": "code",
      "source": [
        "import numpy as np\n",
        "y_pred_ls_scale = []\n",
        "for i in range(len(y_pred_scale)):\n",
        "  pred_scale = np.max(y_pred_scale[i])\n",
        "  y_pred_ls_scale.append(pred_scale)"
      ],
      "metadata": {
        "id": "dhl09jIxKeV3"
      },
      "execution_count": 77,
      "outputs": []
    },
    {
      "cell_type": "code",
      "source": [
        "import pandas as pd\n",
        "results = pd.DataFrame()\n",
        "results['Real Price'] = test_targets\n",
        "results['Prediction DNN'] = y_pred_ls\n",
        "results['Prediction DNN_scaled'] = y_pred_ls_scale\n",
        "results['Prediction RFR'] = y_pred_rfr"
      ],
      "metadata": {
        "id": "zOPgfMADLHHh"
      },
      "execution_count": 78,
      "outputs": []
    },
    {
      "cell_type": "markdown",
      "source": [
        "# Compare Models"
      ],
      "metadata": {
        "id": "8WuVIFDBNNkS"
      }
    },
    {
      "cell_type": "code",
      "source": [
        "results.head(49)"
      ],
      "metadata": {
        "colab": {
          "base_uri": "https://localhost:8080/",
          "height": 1000
        },
        "id": "LB61kDjFLWJL",
        "outputId": "e9f4c7cc-a552-4501-9ed5-c5556374ab80"
      },
      "execution_count": 79,
      "outputs": [
        {
          "output_type": "execute_result",
          "data": {
            "text/plain": [
              "    Real Price  Prediction DNN  Prediction DNN_scaled  Prediction RFR\n",
              "0          7.2       23.159916               9.816824           8.786\n",
              "1         18.8       29.009644              19.348356          18.716\n",
              "2         19.0       20.927578              20.724485          20.160\n",
              "3         27.0       26.874395              34.245865          24.713\n",
              "4         22.2       19.691301              22.365429          22.188\n",
              "5         24.5       21.297682              24.055836          20.445\n",
              "6         31.2       35.495895              27.821320          30.072\n",
              "7         22.9       23.221645              21.958853          23.723\n",
              "8         20.5       21.191809              18.844370          17.467\n",
              "9         23.2       24.559776              21.010193          19.128\n",
              "10        18.6       51.981091              23.830973          19.718\n",
              "11        14.5       24.494190              17.577286          19.801\n",
              "12        17.8       28.285740              15.881907          14.869\n",
              "13        50.0       11.738528              42.546822          41.580\n",
              "14        20.8       34.494286              26.517826          19.450\n",
              "15        24.3       21.783037              21.640259          21.360\n",
              "16        24.2       33.137619              25.441359          23.952\n",
              "17        19.8       18.615122              18.916748          21.325\n",
              "18        19.1       23.114029              22.030149          18.359\n",
              "19        22.7       12.532805              21.062250          20.565\n",
              "20        12.0       24.813734              11.740168          15.137\n",
              "21        10.2       14.685451               9.882398          15.000\n",
              "22        20.0       15.180316              21.620525          20.948\n",
              "23        18.5       20.153568              16.470741          20.766\n",
              "24        20.9       10.000284              19.053671          19.875\n",
              "25        23.0       28.384529              21.031008          20.806\n",
              "26        27.5       22.704117              26.194691          26.592\n",
              "27        30.1       13.484235              29.894978          28.849\n",
              "28         9.5       14.375636               8.747135          11.548\n",
              "29        22.0       33.908005              20.770239          21.070\n",
              "30        21.2       11.455578              19.354168          20.356\n",
              "31        14.1       21.270172              15.835843          16.470\n",
              "32        33.1       23.024061              33.698837          30.968\n",
              "33        23.4       20.217474              23.999146          23.497\n",
              "34        20.1       15.544187              22.462101          17.201\n",
              "35         7.4       27.374100               7.170424           8.975\n",
              "36        15.4       19.304712              19.177933          15.087\n",
              "37        23.8       38.440956              20.041943          20.402\n",
              "38        20.1       21.184402              18.395536          19.931\n",
              "39        24.5       20.776564              27.126818          26.839\n",
              "40        33.0       20.197718              33.342522          32.373\n",
              "41        28.4       25.450142              25.295530          25.900\n",
              "42        14.1        3.076270              13.087327          15.493\n",
              "43        46.7       36.856865              44.385239          44.612\n",
              "44        32.5       51.462067              28.764174          28.104\n",
              "45        29.6       21.117985              27.826677          26.027\n",
              "46        28.4       21.218065              27.550161          25.949\n",
              "47        19.8       14.934484              20.037195          19.991\n",
              "48        20.2       36.169685              22.896708          21.132"
            ],
            "text/html": [
              "\n",
              "  <div id=\"df-43b76822-04d1-49fc-9f30-42fa3a9fadeb\">\n",
              "    <div class=\"colab-df-container\">\n",
              "      <div>\n",
              "<style scoped>\n",
              "    .dataframe tbody tr th:only-of-type {\n",
              "        vertical-align: middle;\n",
              "    }\n",
              "\n",
              "    .dataframe tbody tr th {\n",
              "        vertical-align: top;\n",
              "    }\n",
              "\n",
              "    .dataframe thead th {\n",
              "        text-align: right;\n",
              "    }\n",
              "</style>\n",
              "<table border=\"1\" class=\"dataframe\">\n",
              "  <thead>\n",
              "    <tr style=\"text-align: right;\">\n",
              "      <th></th>\n",
              "      <th>Real Price</th>\n",
              "      <th>Prediction DNN</th>\n",
              "      <th>Prediction DNN_scaled</th>\n",
              "      <th>Prediction RFR</th>\n",
              "    </tr>\n",
              "  </thead>\n",
              "  <tbody>\n",
              "    <tr>\n",
              "      <th>0</th>\n",
              "      <td>7.2</td>\n",
              "      <td>23.159916</td>\n",
              "      <td>9.816824</td>\n",
              "      <td>8.786</td>\n",
              "    </tr>\n",
              "    <tr>\n",
              "      <th>1</th>\n",
              "      <td>18.8</td>\n",
              "      <td>29.009644</td>\n",
              "      <td>19.348356</td>\n",
              "      <td>18.716</td>\n",
              "    </tr>\n",
              "    <tr>\n",
              "      <th>2</th>\n",
              "      <td>19.0</td>\n",
              "      <td>20.927578</td>\n",
              "      <td>20.724485</td>\n",
              "      <td>20.160</td>\n",
              "    </tr>\n",
              "    <tr>\n",
              "      <th>3</th>\n",
              "      <td>27.0</td>\n",
              "      <td>26.874395</td>\n",
              "      <td>34.245865</td>\n",
              "      <td>24.713</td>\n",
              "    </tr>\n",
              "    <tr>\n",
              "      <th>4</th>\n",
              "      <td>22.2</td>\n",
              "      <td>19.691301</td>\n",
              "      <td>22.365429</td>\n",
              "      <td>22.188</td>\n",
              "    </tr>\n",
              "    <tr>\n",
              "      <th>5</th>\n",
              "      <td>24.5</td>\n",
              "      <td>21.297682</td>\n",
              "      <td>24.055836</td>\n",
              "      <td>20.445</td>\n",
              "    </tr>\n",
              "    <tr>\n",
              "      <th>6</th>\n",
              "      <td>31.2</td>\n",
              "      <td>35.495895</td>\n",
              "      <td>27.821320</td>\n",
              "      <td>30.072</td>\n",
              "    </tr>\n",
              "    <tr>\n",
              "      <th>7</th>\n",
              "      <td>22.9</td>\n",
              "      <td>23.221645</td>\n",
              "      <td>21.958853</td>\n",
              "      <td>23.723</td>\n",
              "    </tr>\n",
              "    <tr>\n",
              "      <th>8</th>\n",
              "      <td>20.5</td>\n",
              "      <td>21.191809</td>\n",
              "      <td>18.844370</td>\n",
              "      <td>17.467</td>\n",
              "    </tr>\n",
              "    <tr>\n",
              "      <th>9</th>\n",
              "      <td>23.2</td>\n",
              "      <td>24.559776</td>\n",
              "      <td>21.010193</td>\n",
              "      <td>19.128</td>\n",
              "    </tr>\n",
              "    <tr>\n",
              "      <th>10</th>\n",
              "      <td>18.6</td>\n",
              "      <td>51.981091</td>\n",
              "      <td>23.830973</td>\n",
              "      <td>19.718</td>\n",
              "    </tr>\n",
              "    <tr>\n",
              "      <th>11</th>\n",
              "      <td>14.5</td>\n",
              "      <td>24.494190</td>\n",
              "      <td>17.577286</td>\n",
              "      <td>19.801</td>\n",
              "    </tr>\n",
              "    <tr>\n",
              "      <th>12</th>\n",
              "      <td>17.8</td>\n",
              "      <td>28.285740</td>\n",
              "      <td>15.881907</td>\n",
              "      <td>14.869</td>\n",
              "    </tr>\n",
              "    <tr>\n",
              "      <th>13</th>\n",
              "      <td>50.0</td>\n",
              "      <td>11.738528</td>\n",
              "      <td>42.546822</td>\n",
              "      <td>41.580</td>\n",
              "    </tr>\n",
              "    <tr>\n",
              "      <th>14</th>\n",
              "      <td>20.8</td>\n",
              "      <td>34.494286</td>\n",
              "      <td>26.517826</td>\n",
              "      <td>19.450</td>\n",
              "    </tr>\n",
              "    <tr>\n",
              "      <th>15</th>\n",
              "      <td>24.3</td>\n",
              "      <td>21.783037</td>\n",
              "      <td>21.640259</td>\n",
              "      <td>21.360</td>\n",
              "    </tr>\n",
              "    <tr>\n",
              "      <th>16</th>\n",
              "      <td>24.2</td>\n",
              "      <td>33.137619</td>\n",
              "      <td>25.441359</td>\n",
              "      <td>23.952</td>\n",
              "    </tr>\n",
              "    <tr>\n",
              "      <th>17</th>\n",
              "      <td>19.8</td>\n",
              "      <td>18.615122</td>\n",
              "      <td>18.916748</td>\n",
              "      <td>21.325</td>\n",
              "    </tr>\n",
              "    <tr>\n",
              "      <th>18</th>\n",
              "      <td>19.1</td>\n",
              "      <td>23.114029</td>\n",
              "      <td>22.030149</td>\n",
              "      <td>18.359</td>\n",
              "    </tr>\n",
              "    <tr>\n",
              "      <th>19</th>\n",
              "      <td>22.7</td>\n",
              "      <td>12.532805</td>\n",
              "      <td>21.062250</td>\n",
              "      <td>20.565</td>\n",
              "    </tr>\n",
              "    <tr>\n",
              "      <th>20</th>\n",
              "      <td>12.0</td>\n",
              "      <td>24.813734</td>\n",
              "      <td>11.740168</td>\n",
              "      <td>15.137</td>\n",
              "    </tr>\n",
              "    <tr>\n",
              "      <th>21</th>\n",
              "      <td>10.2</td>\n",
              "      <td>14.685451</td>\n",
              "      <td>9.882398</td>\n",
              "      <td>15.000</td>\n",
              "    </tr>\n",
              "    <tr>\n",
              "      <th>22</th>\n",
              "      <td>20.0</td>\n",
              "      <td>15.180316</td>\n",
              "      <td>21.620525</td>\n",
              "      <td>20.948</td>\n",
              "    </tr>\n",
              "    <tr>\n",
              "      <th>23</th>\n",
              "      <td>18.5</td>\n",
              "      <td>20.153568</td>\n",
              "      <td>16.470741</td>\n",
              "      <td>20.766</td>\n",
              "    </tr>\n",
              "    <tr>\n",
              "      <th>24</th>\n",
              "      <td>20.9</td>\n",
              "      <td>10.000284</td>\n",
              "      <td>19.053671</td>\n",
              "      <td>19.875</td>\n",
              "    </tr>\n",
              "    <tr>\n",
              "      <th>25</th>\n",
              "      <td>23.0</td>\n",
              "      <td>28.384529</td>\n",
              "      <td>21.031008</td>\n",
              "      <td>20.806</td>\n",
              "    </tr>\n",
              "    <tr>\n",
              "      <th>26</th>\n",
              "      <td>27.5</td>\n",
              "      <td>22.704117</td>\n",
              "      <td>26.194691</td>\n",
              "      <td>26.592</td>\n",
              "    </tr>\n",
              "    <tr>\n",
              "      <th>27</th>\n",
              "      <td>30.1</td>\n",
              "      <td>13.484235</td>\n",
              "      <td>29.894978</td>\n",
              "      <td>28.849</td>\n",
              "    </tr>\n",
              "    <tr>\n",
              "      <th>28</th>\n",
              "      <td>9.5</td>\n",
              "      <td>14.375636</td>\n",
              "      <td>8.747135</td>\n",
              "      <td>11.548</td>\n",
              "    </tr>\n",
              "    <tr>\n",
              "      <th>29</th>\n",
              "      <td>22.0</td>\n",
              "      <td>33.908005</td>\n",
              "      <td>20.770239</td>\n",
              "      <td>21.070</td>\n",
              "    </tr>\n",
              "    <tr>\n",
              "      <th>30</th>\n",
              "      <td>21.2</td>\n",
              "      <td>11.455578</td>\n",
              "      <td>19.354168</td>\n",
              "      <td>20.356</td>\n",
              "    </tr>\n",
              "    <tr>\n",
              "      <th>31</th>\n",
              "      <td>14.1</td>\n",
              "      <td>21.270172</td>\n",
              "      <td>15.835843</td>\n",
              "      <td>16.470</td>\n",
              "    </tr>\n",
              "    <tr>\n",
              "      <th>32</th>\n",
              "      <td>33.1</td>\n",
              "      <td>23.024061</td>\n",
              "      <td>33.698837</td>\n",
              "      <td>30.968</td>\n",
              "    </tr>\n",
              "    <tr>\n",
              "      <th>33</th>\n",
              "      <td>23.4</td>\n",
              "      <td>20.217474</td>\n",
              "      <td>23.999146</td>\n",
              "      <td>23.497</td>\n",
              "    </tr>\n",
              "    <tr>\n",
              "      <th>34</th>\n",
              "      <td>20.1</td>\n",
              "      <td>15.544187</td>\n",
              "      <td>22.462101</td>\n",
              "      <td>17.201</td>\n",
              "    </tr>\n",
              "    <tr>\n",
              "      <th>35</th>\n",
              "      <td>7.4</td>\n",
              "      <td>27.374100</td>\n",
              "      <td>7.170424</td>\n",
              "      <td>8.975</td>\n",
              "    </tr>\n",
              "    <tr>\n",
              "      <th>36</th>\n",
              "      <td>15.4</td>\n",
              "      <td>19.304712</td>\n",
              "      <td>19.177933</td>\n",
              "      <td>15.087</td>\n",
              "    </tr>\n",
              "    <tr>\n",
              "      <th>37</th>\n",
              "      <td>23.8</td>\n",
              "      <td>38.440956</td>\n",
              "      <td>20.041943</td>\n",
              "      <td>20.402</td>\n",
              "    </tr>\n",
              "    <tr>\n",
              "      <th>38</th>\n",
              "      <td>20.1</td>\n",
              "      <td>21.184402</td>\n",
              "      <td>18.395536</td>\n",
              "      <td>19.931</td>\n",
              "    </tr>\n",
              "    <tr>\n",
              "      <th>39</th>\n",
              "      <td>24.5</td>\n",
              "      <td>20.776564</td>\n",
              "      <td>27.126818</td>\n",
              "      <td>26.839</td>\n",
              "    </tr>\n",
              "    <tr>\n",
              "      <th>40</th>\n",
              "      <td>33.0</td>\n",
              "      <td>20.197718</td>\n",
              "      <td>33.342522</td>\n",
              "      <td>32.373</td>\n",
              "    </tr>\n",
              "    <tr>\n",
              "      <th>41</th>\n",
              "      <td>28.4</td>\n",
              "      <td>25.450142</td>\n",
              "      <td>25.295530</td>\n",
              "      <td>25.900</td>\n",
              "    </tr>\n",
              "    <tr>\n",
              "      <th>42</th>\n",
              "      <td>14.1</td>\n",
              "      <td>3.076270</td>\n",
              "      <td>13.087327</td>\n",
              "      <td>15.493</td>\n",
              "    </tr>\n",
              "    <tr>\n",
              "      <th>43</th>\n",
              "      <td>46.7</td>\n",
              "      <td>36.856865</td>\n",
              "      <td>44.385239</td>\n",
              "      <td>44.612</td>\n",
              "    </tr>\n",
              "    <tr>\n",
              "      <th>44</th>\n",
              "      <td>32.5</td>\n",
              "      <td>51.462067</td>\n",
              "      <td>28.764174</td>\n",
              "      <td>28.104</td>\n",
              "    </tr>\n",
              "    <tr>\n",
              "      <th>45</th>\n",
              "      <td>29.6</td>\n",
              "      <td>21.117985</td>\n",
              "      <td>27.826677</td>\n",
              "      <td>26.027</td>\n",
              "    </tr>\n",
              "    <tr>\n",
              "      <th>46</th>\n",
              "      <td>28.4</td>\n",
              "      <td>21.218065</td>\n",
              "      <td>27.550161</td>\n",
              "      <td>25.949</td>\n",
              "    </tr>\n",
              "    <tr>\n",
              "      <th>47</th>\n",
              "      <td>19.8</td>\n",
              "      <td>14.934484</td>\n",
              "      <td>20.037195</td>\n",
              "      <td>19.991</td>\n",
              "    </tr>\n",
              "    <tr>\n",
              "      <th>48</th>\n",
              "      <td>20.2</td>\n",
              "      <td>36.169685</td>\n",
              "      <td>22.896708</td>\n",
              "      <td>21.132</td>\n",
              "    </tr>\n",
              "  </tbody>\n",
              "</table>\n",
              "</div>\n",
              "      <button class=\"colab-df-convert\" onclick=\"convertToInteractive('df-43b76822-04d1-49fc-9f30-42fa3a9fadeb')\"\n",
              "              title=\"Convert this dataframe to an interactive table.\"\n",
              "              style=\"display:none;\">\n",
              "        \n",
              "  <svg xmlns=\"http://www.w3.org/2000/svg\" height=\"24px\"viewBox=\"0 0 24 24\"\n",
              "       width=\"24px\">\n",
              "    <path d=\"M0 0h24v24H0V0z\" fill=\"none\"/>\n",
              "    <path d=\"M18.56 5.44l.94 2.06.94-2.06 2.06-.94-2.06-.94-.94-2.06-.94 2.06-2.06.94zm-11 1L8.5 8.5l.94-2.06 2.06-.94-2.06-.94L8.5 2.5l-.94 2.06-2.06.94zm10 10l.94 2.06.94-2.06 2.06-.94-2.06-.94-.94-2.06-.94 2.06-2.06.94z\"/><path d=\"M17.41 7.96l-1.37-1.37c-.4-.4-.92-.59-1.43-.59-.52 0-1.04.2-1.43.59L10.3 9.45l-7.72 7.72c-.78.78-.78 2.05 0 2.83L4 21.41c.39.39.9.59 1.41.59.51 0 1.02-.2 1.41-.59l7.78-7.78 2.81-2.81c.8-.78.8-2.07 0-2.86zM5.41 20L4 18.59l7.72-7.72 1.47 1.35L5.41 20z\"/>\n",
              "  </svg>\n",
              "      </button>\n",
              "      \n",
              "  <style>\n",
              "    .colab-df-container {\n",
              "      display:flex;\n",
              "      flex-wrap:wrap;\n",
              "      gap: 12px;\n",
              "    }\n",
              "\n",
              "    .colab-df-convert {\n",
              "      background-color: #E8F0FE;\n",
              "      border: none;\n",
              "      border-radius: 50%;\n",
              "      cursor: pointer;\n",
              "      display: none;\n",
              "      fill: #1967D2;\n",
              "      height: 32px;\n",
              "      padding: 0 0 0 0;\n",
              "      width: 32px;\n",
              "    }\n",
              "\n",
              "    .colab-df-convert:hover {\n",
              "      background-color: #E2EBFA;\n",
              "      box-shadow: 0px 1px 2px rgba(60, 64, 67, 0.3), 0px 1px 3px 1px rgba(60, 64, 67, 0.15);\n",
              "      fill: #174EA6;\n",
              "    }\n",
              "\n",
              "    [theme=dark] .colab-df-convert {\n",
              "      background-color: #3B4455;\n",
              "      fill: #D2E3FC;\n",
              "    }\n",
              "\n",
              "    [theme=dark] .colab-df-convert:hover {\n",
              "      background-color: #434B5C;\n",
              "      box-shadow: 0px 1px 3px 1px rgba(0, 0, 0, 0.15);\n",
              "      filter: drop-shadow(0px 1px 2px rgba(0, 0, 0, 0.3));\n",
              "      fill: #FFFFFF;\n",
              "    }\n",
              "  </style>\n",
              "\n",
              "      <script>\n",
              "        const buttonEl =\n",
              "          document.querySelector('#df-43b76822-04d1-49fc-9f30-42fa3a9fadeb button.colab-df-convert');\n",
              "        buttonEl.style.display =\n",
              "          google.colab.kernel.accessAllowed ? 'block' : 'none';\n",
              "\n",
              "        async function convertToInteractive(key) {\n",
              "          const element = document.querySelector('#df-43b76822-04d1-49fc-9f30-42fa3a9fadeb');\n",
              "          const dataTable =\n",
              "            await google.colab.kernel.invokeFunction('convertToInteractive',\n",
              "                                                     [key], {});\n",
              "          if (!dataTable) return;\n",
              "\n",
              "          const docLinkHtml = 'Like what you see? Visit the ' +\n",
              "            '<a target=\"_blank\" href=https://colab.research.google.com/notebooks/data_table.ipynb>data table notebook</a>'\n",
              "            + ' to learn more about interactive tables.';\n",
              "          element.innerHTML = '';\n",
              "          dataTable['output_type'] = 'display_data';\n",
              "          await google.colab.output.renderOutput(dataTable, element);\n",
              "          const docLink = document.createElement('div');\n",
              "          docLink.innerHTML = docLinkHtml;\n",
              "          element.appendChild(docLink);\n",
              "        }\n",
              "      </script>\n",
              "    </div>\n",
              "  </div>\n",
              "  "
            ]
          },
          "metadata": {},
          "execution_count": 79
        }
      ]
    },
    {
      "cell_type": "code",
      "source": [],
      "metadata": {
        "id": "flxh4DD3Lb0x"
      },
      "execution_count": null,
      "outputs": []
    }
  ]
}